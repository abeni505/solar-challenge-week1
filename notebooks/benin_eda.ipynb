{
 "cells": [
  {
   "cell_type": "code",
   "execution_count": null,
   "metadata": {},
   "outputs": [],
   "source": [
    "# Step 0: Imports and Setup\n",
    "\n",
    "import sys\n",
    "import os\n",
    "sys.path.append(os.path.abspath(\"..\"))\n",
    "\n",
    "import pandas as pd\n",
    "from src.data_utils import load_data, clean_columns, export_cleaned, summarize_missing\n",
    "from src.eda_utils import *\n",
    "\n",
    "# Load Sierra Leone data\n",
    "df = load_data(\"../data/benin-malanville.csv\")\n",
    "df.head()\n"
   ]
  },
  {
   "cell_type": "code",
   "execution_count": null,
   "metadata": {},
   "outputs": [],
   "source": [
    "# Step A: Summary Stats and Missing Values\n",
    "df.describe()\n",
    "summarize_missing(df)\n"
   ]
  },
  {
   "cell_type": "code",
   "execution_count": null,
   "metadata": {},
   "outputs": [],
   "source": [
    "# Step B: Outlier Detection & Imputation\n",
    "columns_to_check = ['GHI', 'DNI', 'DHI', 'ModA', 'ModB', 'WS', 'WSgust']\n",
    "detect_outliers(df, columns_to_check)\n",
    "\n",
    "df_cleaned = clean_columns(df, columns_to_check)\n"
   ]
  },
  {
   "cell_type": "code",
   "execution_count": null,
   "metadata": {},
   "outputs": [],
   "source": [
    "# Step C: Export Cleaned Data\n",
    "export_cleaned(df_cleaned, \"../data/sierraleone_clean.csv\")\n"
   ]
  },
  {
   "cell_type": "code",
   "execution_count": null,
   "metadata": {},
   "outputs": [],
   "source": [
    "# Step D: Time Series Analysis\n",
    "plot_time_series(df_cleaned, [\"GHI\", \"DNI\", \"DHI\", \"Tamb\"])\n"
   ]
  },
  {
   "cell_type": "code",
   "execution_count": null,
   "metadata": {},
   "outputs": [],
   "source": [
    "# Step E: Cleaning Impact\n",
    "plot_cleaning_effect(df_cleaned)\n"
   ]
  },
  {
   "cell_type": "code",
   "execution_count": null,
   "metadata": {},
   "outputs": [],
   "source": [
    "# Step F: Correlation Heatmap\n",
    "plot_correlation_heatmap(df_cleaned, [\"GHI\", \"DNI\", \"DHI\", \"TModA\", \"TModB\"])\n"
   ]
  },
  {
   "cell_type": "code",
   "execution_count": null,
   "metadata": {},
   "outputs": [],
   "source": [
    "# Step G: Scatter Plots\n",
    "plot_scatter(df_cleaned, \"WS\", \"GHI\", \"Wind Speed vs GHI\")\n",
    "plot_scatter(df_cleaned, \"RH\", \"Tamb\", \"Relative Humidity vs Temperature\")\n"
   ]
  },
  {
   "cell_type": "code",
   "execution_count": null,
   "metadata": {},
   "outputs": [],
   "source": [
    "# Step H: Wind Distribution & Histogram\n",
    "plot_histogram(df_cleaned, \"WD\")\n",
    "plot_histogram(df_cleaned, \"GHI\")\n"
   ]
  },
  {
   "cell_type": "code",
   "execution_count": null,
   "metadata": {},
   "outputs": [],
   "source": [
    "# Step I: Bubble Chart\n",
    "plot_bubble_chart(df_cleaned, \"GHI\", \"Tamb\", \"RH\")\n"
   ]
  }
 ],
 "metadata": {
  "kernelspec": {
   "display_name": "solar-env",
   "language": "python",
   "name": "python3"
  },
  "language_info": {
   "name": "python",
   "version": "3.11.11"
  }
 },
 "nbformat": 4,
 "nbformat_minor": 2
}
